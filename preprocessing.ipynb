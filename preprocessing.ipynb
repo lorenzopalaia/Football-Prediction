{
  "nbformat": 4,
  "nbformat_minor": 0,
  "metadata": {
    "colab": {
      "provenance": []
    },
    "kernelspec": {
      "name": "python3",
      "display_name": "Python 3"
    },
    "language_info": {
      "name": "python"
    }
  },
  "cells": [
    {
      "cell_type": "code",
      "execution_count": 14,
      "metadata": {
        "id": "ayuNoLhmhlGu"
      },
      "outputs": [],
      "source": [
        "import numpy as np\n",
        "import pandas as pd\n",
        "import matplotlib.pyplot as plt\n",
        "import seaborn as sns\n",
        "pd.set_option('display.max_columns', None)\n",
        "\n",
        "import warnings\n",
        "warnings.filterwarnings('ignore')"
      ]
    },
    {
      "cell_type": "code",
      "source": [
        "df = pd.read_csv('/content/matches.csv')"
      ],
      "metadata": {
        "id": "9aZrIfmAhvpZ"
      },
      "execution_count": 15,
      "outputs": []
    },
    {
      "cell_type": "code",
      "source": [
        "df.drop(columns=[\"Unnamed: 0\", \"comp\", \"round\", \"attendance\", \"match report\", \"notes\"], inplace=True)\n",
        "df[\"date\"] = pd.to_datetime(df[\"date\"])\n",
        "df['venue'] = df['venue'].astype('category')\n",
        "df['opponent'] = df['opponent'].astype('category')\n",
        "df['team'] = df['team'].astype('category')\n",
        "df['result'] = df['result'].astype('category')\n",
        "df['day'] = df['date'].dt.day_name()\n",
        "\n",
        "df[\"hour\"] = df[\"time\"].str.replace(\":.+\", \"\", regex=True).astype(\"int\")\n",
        "df[\"day_code\"] = df[\"date\"].dt.dayofweek"
      ],
      "metadata": {
        "id": "aXD6rwP7hwwl"
      },
      "execution_count": 16,
      "outputs": []
    },
    {
      "cell_type": "code",
      "source": [
        "df.duplicated().sum()"
      ],
      "metadata": {
        "colab": {
          "base_uri": "https://localhost:8080/"
        },
        "id": "BuocJYodiAEY",
        "outputId": "5761e50f-c084-4ea6-e3be-f60cb83ebe36"
      },
      "execution_count": 17,
      "outputs": [
        {
          "output_type": "execute_result",
          "data": {
            "text/plain": [
              "0"
            ]
          },
          "metadata": {},
          "execution_count": 17
        }
      ]
    },
    {
      "cell_type": "code",
      "source": [
        "df.formation.value_counts()"
      ],
      "metadata": {
        "colab": {
          "base_uri": "https://localhost:8080/",
          "height": 805
        },
        "id": "if-IQjlEifvq",
        "outputId": "e58a020a-54a4-4fbe-8352-db044af75c57"
      },
      "execution_count": 18,
      "outputs": [
        {
          "output_type": "execute_result",
          "data": {
            "text/plain": [
              "formation\n",
              "4-2-3-1       1382\n",
              "4-3-3         1025\n",
              "4-4-2          583\n",
              "3-4-3          548\n",
              "3-5-2          266\n",
              "4-1-4-1        258\n",
              "4-4-1-1        141\n",
              "3-4-1-2        113\n",
              "5-3-2          107\n",
              "5-4-1           99\n",
              "4-5-1           49\n",
              "4-3-1-2         47\n",
              "4-1-2-1-2◆      35\n",
              "4-2-2-2         29\n",
              "3-1-4-2         25\n",
              "4-3-2-1         22\n",
              "3-2-4-1         21\n",
              "3-3-3-1         17\n",
              "3-5-1-1         14\n",
              "3-4-3◆           3\n",
              "4-1-3-2          2\n",
              "4-2-4-0          2\n",
              "Name: count, dtype: int64"
            ],
            "text/html": [
              "<div>\n",
              "<style scoped>\n",
              "    .dataframe tbody tr th:only-of-type {\n",
              "        vertical-align: middle;\n",
              "    }\n",
              "\n",
              "    .dataframe tbody tr th {\n",
              "        vertical-align: top;\n",
              "    }\n",
              "\n",
              "    .dataframe thead th {\n",
              "        text-align: right;\n",
              "    }\n",
              "</style>\n",
              "<table border=\"1\" class=\"dataframe\">\n",
              "  <thead>\n",
              "    <tr style=\"text-align: right;\">\n",
              "      <th></th>\n",
              "      <th>count</th>\n",
              "    </tr>\n",
              "    <tr>\n",
              "      <th>formation</th>\n",
              "      <th></th>\n",
              "    </tr>\n",
              "  </thead>\n",
              "  <tbody>\n",
              "    <tr>\n",
              "      <th>4-2-3-1</th>\n",
              "      <td>1382</td>\n",
              "    </tr>\n",
              "    <tr>\n",
              "      <th>4-3-3</th>\n",
              "      <td>1025</td>\n",
              "    </tr>\n",
              "    <tr>\n",
              "      <th>4-4-2</th>\n",
              "      <td>583</td>\n",
              "    </tr>\n",
              "    <tr>\n",
              "      <th>3-4-3</th>\n",
              "      <td>548</td>\n",
              "    </tr>\n",
              "    <tr>\n",
              "      <th>3-5-2</th>\n",
              "      <td>266</td>\n",
              "    </tr>\n",
              "    <tr>\n",
              "      <th>4-1-4-1</th>\n",
              "      <td>258</td>\n",
              "    </tr>\n",
              "    <tr>\n",
              "      <th>4-4-1-1</th>\n",
              "      <td>141</td>\n",
              "    </tr>\n",
              "    <tr>\n",
              "      <th>3-4-1-2</th>\n",
              "      <td>113</td>\n",
              "    </tr>\n",
              "    <tr>\n",
              "      <th>5-3-2</th>\n",
              "      <td>107</td>\n",
              "    </tr>\n",
              "    <tr>\n",
              "      <th>5-4-1</th>\n",
              "      <td>99</td>\n",
              "    </tr>\n",
              "    <tr>\n",
              "      <th>4-5-1</th>\n",
              "      <td>49</td>\n",
              "    </tr>\n",
              "    <tr>\n",
              "      <th>4-3-1-2</th>\n",
              "      <td>47</td>\n",
              "    </tr>\n",
              "    <tr>\n",
              "      <th>4-1-2-1-2◆</th>\n",
              "      <td>35</td>\n",
              "    </tr>\n",
              "    <tr>\n",
              "      <th>4-2-2-2</th>\n",
              "      <td>29</td>\n",
              "    </tr>\n",
              "    <tr>\n",
              "      <th>3-1-4-2</th>\n",
              "      <td>25</td>\n",
              "    </tr>\n",
              "    <tr>\n",
              "      <th>4-3-2-1</th>\n",
              "      <td>22</td>\n",
              "    </tr>\n",
              "    <tr>\n",
              "      <th>3-2-4-1</th>\n",
              "      <td>21</td>\n",
              "    </tr>\n",
              "    <tr>\n",
              "      <th>3-3-3-1</th>\n",
              "      <td>17</td>\n",
              "    </tr>\n",
              "    <tr>\n",
              "      <th>3-5-1-1</th>\n",
              "      <td>14</td>\n",
              "    </tr>\n",
              "    <tr>\n",
              "      <th>3-4-3◆</th>\n",
              "      <td>3</td>\n",
              "    </tr>\n",
              "    <tr>\n",
              "      <th>4-1-3-2</th>\n",
              "      <td>2</td>\n",
              "    </tr>\n",
              "    <tr>\n",
              "      <th>4-2-4-0</th>\n",
              "      <td>2</td>\n",
              "    </tr>\n",
              "  </tbody>\n",
              "</table>\n",
              "</div><br><label><b>dtype:</b> int64</label>"
            ]
          },
          "metadata": {},
          "execution_count": 18
        }
      ]
    },
    {
      "cell_type": "code",
      "source": [
        "df.formation = df.formation.str.replace(\"◆\", \"\")\n",
        "df.formation = df.formation.str.replace(\"-0\", \"\")\n",
        "\n",
        "value_counts = df.formation.value_counts()\n",
        "to_replace = value_counts[value_counts < 107].index\n",
        "df['formation'] = df['formation'].replace(to_replace, 'Altro')"
      ],
      "metadata": {
        "id": "7GPEhIKAnBWa"
      },
      "execution_count": 19,
      "outputs": []
    },
    {
      "cell_type": "code",
      "source": [
        "df['season'].value_counts()"
      ],
      "metadata": {
        "colab": {
          "base_uri": "https://localhost:8080/",
          "height": 272
        },
        "id": "vROLD7v_nOdR",
        "outputId": "b28e65ba-a2a6-4fe1-a570-3f79b5baec09"
      },
      "execution_count": 20,
      "outputs": [
        {
          "output_type": "execute_result",
          "data": {
            "text/plain": [
              "season\n",
              "2024    1520\n",
              "2023     988\n",
              "2022     760\n",
              "2021     760\n",
              "2020     760\n",
              "Name: count, dtype: int64"
            ],
            "text/html": [
              "<div>\n",
              "<style scoped>\n",
              "    .dataframe tbody tr th:only-of-type {\n",
              "        vertical-align: middle;\n",
              "    }\n",
              "\n",
              "    .dataframe tbody tr th {\n",
              "        vertical-align: top;\n",
              "    }\n",
              "\n",
              "    .dataframe thead th {\n",
              "        text-align: right;\n",
              "    }\n",
              "</style>\n",
              "<table border=\"1\" class=\"dataframe\">\n",
              "  <thead>\n",
              "    <tr style=\"text-align: right;\">\n",
              "      <th></th>\n",
              "      <th>count</th>\n",
              "    </tr>\n",
              "    <tr>\n",
              "      <th>season</th>\n",
              "      <th></th>\n",
              "    </tr>\n",
              "  </thead>\n",
              "  <tbody>\n",
              "    <tr>\n",
              "      <th>2024</th>\n",
              "      <td>1520</td>\n",
              "    </tr>\n",
              "    <tr>\n",
              "      <th>2023</th>\n",
              "      <td>988</td>\n",
              "    </tr>\n",
              "    <tr>\n",
              "      <th>2022</th>\n",
              "      <td>760</td>\n",
              "    </tr>\n",
              "    <tr>\n",
              "      <th>2021</th>\n",
              "      <td>760</td>\n",
              "    </tr>\n",
              "    <tr>\n",
              "      <th>2020</th>\n",
              "      <td>760</td>\n",
              "    </tr>\n",
              "  </tbody>\n",
              "</table>\n",
              "</div><br><label><b>dtype:</b> int64</label>"
            ]
          },
          "metadata": {},
          "execution_count": 20
        }
      ]
    },
    {
      "cell_type": "code",
      "source": [
        "df_cols = df.columns\n",
        "df_cols = df_cols.drop('season')"
      ],
      "metadata": {
        "id": "CbYSDA-CnWno"
      },
      "execution_count": 21,
      "outputs": []
    },
    {
      "cell_type": "code",
      "source": [
        "df.duplicated(subset=df_cols).sum()"
      ],
      "metadata": {
        "colab": {
          "base_uri": "https://localhost:8080/"
        },
        "id": "uE1GnXYNnfQn",
        "outputId": "20cc4513-3234-49d2-c9cf-6307a75afab7"
      },
      "execution_count": 22,
      "outputs": [
        {
          "output_type": "execute_result",
          "data": {
            "text/plain": [
              "988"
            ]
          },
          "metadata": {},
          "execution_count": 22
        }
      ]
    },
    {
      "cell_type": "code",
      "source": [
        "df.drop_duplicates(subset=df_cols, inplace=True)\n",
        "df.duplicated(subset=df_cols).sum()"
      ],
      "metadata": {
        "colab": {
          "base_uri": "https://localhost:8080/"
        },
        "id": "8tmK5KiUnZmY",
        "outputId": "068bd33f-7d4d-497d-ae60-f1c54af22f98"
      },
      "execution_count": 23,
      "outputs": [
        {
          "output_type": "execute_result",
          "data": {
            "text/plain": [
              "0"
            ]
          },
          "metadata": {},
          "execution_count": 23
        }
      ]
    },
    {
      "cell_type": "code",
      "source": [
        "def get_correct_season(date):\n",
        "    if isinstance(date, str):\n",
        "        date = pd.to_datetime(date)\n",
        "    if date.month >= 8:\n",
        "        return date.year + 1\n",
        "    else:\n",
        "        return date.year"
      ],
      "metadata": {
        "id": "BS6FrbB-oGC6"
      },
      "execution_count": 24,
      "outputs": []
    },
    {
      "cell_type": "code",
      "source": [
        "df['season'] = df['date'].apply(get_correct_season)\n",
        "df['season'].value_counts().sort_index()"
      ],
      "metadata": {
        "colab": {
          "base_uri": "https://localhost:8080/",
          "height": 272
        },
        "id": "I8PTKT2RoJ27",
        "outputId": "d3f1798c-7092-4b9b-b2c4-dfe1207eb05e"
      },
      "execution_count": 25,
      "outputs": [
        {
          "output_type": "execute_result",
          "data": {
            "text/plain": [
              "season\n",
              "2020    760\n",
              "2021    760\n",
              "2022    760\n",
              "2023    760\n",
              "2024    760\n",
              "Name: count, dtype: int64"
            ],
            "text/html": [
              "<div>\n",
              "<style scoped>\n",
              "    .dataframe tbody tr th:only-of-type {\n",
              "        vertical-align: middle;\n",
              "    }\n",
              "\n",
              "    .dataframe tbody tr th {\n",
              "        vertical-align: top;\n",
              "    }\n",
              "\n",
              "    .dataframe thead th {\n",
              "        text-align: right;\n",
              "    }\n",
              "</style>\n",
              "<table border=\"1\" class=\"dataframe\">\n",
              "  <thead>\n",
              "    <tr style=\"text-align: right;\">\n",
              "      <th></th>\n",
              "      <th>count</th>\n",
              "    </tr>\n",
              "    <tr>\n",
              "      <th>season</th>\n",
              "      <th></th>\n",
              "    </tr>\n",
              "  </thead>\n",
              "  <tbody>\n",
              "    <tr>\n",
              "      <th>2020</th>\n",
              "      <td>760</td>\n",
              "    </tr>\n",
              "    <tr>\n",
              "      <th>2021</th>\n",
              "      <td>760</td>\n",
              "    </tr>\n",
              "    <tr>\n",
              "      <th>2022</th>\n",
              "      <td>760</td>\n",
              "    </tr>\n",
              "    <tr>\n",
              "      <th>2023</th>\n",
              "      <td>760</td>\n",
              "    </tr>\n",
              "    <tr>\n",
              "      <th>2024</th>\n",
              "      <td>760</td>\n",
              "    </tr>\n",
              "  </tbody>\n",
              "</table>\n",
              "</div><br><label><b>dtype:</b> int64</label>"
            ]
          },
          "metadata": {},
          "execution_count": 25
        }
      ]
    },
    {
      "cell_type": "code",
      "source": [
        "df['points'] = df['result'].apply(lambda x: 3 if x == 'W' else 1 if x == 'D' else 0)\n",
        "df['points'] = df['points'].astype('int')\n",
        "winners = df.groupby(['season', 'team'], observed=False)['points'].sum().reset_index() \\\n",
        "  .sort_values(['season', 'points'], ascending=[True, False]) \\\n",
        "  .groupby('season', observed=False).first()\n",
        "\n",
        "df['season_winner'] = df['season'].map(winners['team'])"
      ],
      "metadata": {
        "id": "Rx5nSDAfoVUf"
      },
      "execution_count": 27,
      "outputs": []
    },
    {
      "cell_type": "code",
      "source": [
        "def captains_func(data):\n",
        "    if data['count'] == 0:\n",
        "        data['count'] = np.nan\n",
        "    return data"
      ],
      "metadata": {
        "id": "JNf0CdohojAI"
      },
      "execution_count": 29,
      "outputs": []
    },
    {
      "cell_type": "code",
      "source": [
        "group = df.groupby('team', observed=False)['captain'].value_counts().reset_index(name='count')\n",
        "group = group.apply(captains_func, axis=1)\n",
        "group.dropna(inplace=True)\n",
        "group = group.drop(columns='count')\n",
        "\n",
        "group['team'].value_counts()\n",
        "group[group['team'] == 'Liverpool']\n",
        "df.head()"
      ],
      "metadata": {
        "colab": {
          "base_uri": "https://localhost:8080/",
          "height": 313
        },
        "id": "0a_3lqMuomcq",
        "outputId": "a0dac140-24e1-4e90-9f94-0b424ab35398"
      },
      "execution_count": 30,
      "outputs": [
        {
          "output_type": "execute_result",
          "data": {
            "text/plain": [
              "        date           time       day venue result  gf  ga        opponent  \\\n",
              "0 2020-09-21  20:15 (21:15)    Monday  Away      W   3   1          Wolves   \n",
              "1 2020-09-27  16:30 (17:30)    Sunday  Home      L   2   5  Leicester City   \n",
              "2 2020-10-03  17:30 (18:30)  Saturday  Away      D   1   1    Leeds United   \n",
              "3 2020-10-17  17:30 (18:30)  Saturday  Home      W   1   0         Arsenal   \n",
              "4 2020-10-24  12:30 (13:30)  Saturday  Away      D   1   1        West Ham   \n",
              "\n",
              "    xg  xga  poss          captain formation         referee  sh  sot  dist  \\\n",
              "0  1.9  0.6    65      Fernandinho   4-2-3-1  Andre Marriner  13    8  21.1   \n",
              "1  0.9  2.9    72      Fernandinho   4-2-3-1  Michael Oliver  16    5  19.8   \n",
              "2  1.2  2.4    49  Kevin De Bruyne     4-3-3       Mike Dean  23    1  18.2   \n",
              "3  1.3  0.9    58  Raheem Sterling     Altro  Chris Kavanagh  13    5  17.7   \n",
              "4  1.0  0.3    69  Raheem Sterling     4-3-3  Anthony Taylor  14    7  20.9   \n",
              "\n",
              "   fk  pk  pkatt  season             team  hour  day_code  points  \\\n",
              "0   2   1      1    2021  Manchester City    20         0       3   \n",
              "1   1   0      0    2021  Manchester City    16         6       0   \n",
              "2   1   0      0    2021  Manchester City    17         5       1   \n",
              "3   0   0      0    2021  Manchester City    17         5       3   \n",
              "4   1   0      0    2021  Manchester City    12         5       1   \n",
              "\n",
              "     season_winner  \n",
              "0  Manchester City  \n",
              "1  Manchester City  \n",
              "2  Manchester City  \n",
              "3  Manchester City  \n",
              "4  Manchester City  "
            ],
            "text/html": [
              "\n",
              "  <div id=\"df-2c1ac93c-4793-4ac7-b6a4-09b1badf75c3\" class=\"colab-df-container\">\n",
              "    <div>\n",
              "<style scoped>\n",
              "    .dataframe tbody tr th:only-of-type {\n",
              "        vertical-align: middle;\n",
              "    }\n",
              "\n",
              "    .dataframe tbody tr th {\n",
              "        vertical-align: top;\n",
              "    }\n",
              "\n",
              "    .dataframe thead th {\n",
              "        text-align: right;\n",
              "    }\n",
              "</style>\n",
              "<table border=\"1\" class=\"dataframe\">\n",
              "  <thead>\n",
              "    <tr style=\"text-align: right;\">\n",
              "      <th></th>\n",
              "      <th>date</th>\n",
              "      <th>time</th>\n",
              "      <th>day</th>\n",
              "      <th>venue</th>\n",
              "      <th>result</th>\n",
              "      <th>gf</th>\n",
              "      <th>ga</th>\n",
              "      <th>opponent</th>\n",
              "      <th>xg</th>\n",
              "      <th>xga</th>\n",
              "      <th>poss</th>\n",
              "      <th>captain</th>\n",
              "      <th>formation</th>\n",
              "      <th>referee</th>\n",
              "      <th>sh</th>\n",
              "      <th>sot</th>\n",
              "      <th>dist</th>\n",
              "      <th>fk</th>\n",
              "      <th>pk</th>\n",
              "      <th>pkatt</th>\n",
              "      <th>season</th>\n",
              "      <th>team</th>\n",
              "      <th>hour</th>\n",
              "      <th>day_code</th>\n",
              "      <th>points</th>\n",
              "      <th>season_winner</th>\n",
              "    </tr>\n",
              "  </thead>\n",
              "  <tbody>\n",
              "    <tr>\n",
              "      <th>0</th>\n",
              "      <td>2020-09-21</td>\n",
              "      <td>20:15 (21:15)</td>\n",
              "      <td>Monday</td>\n",
              "      <td>Away</td>\n",
              "      <td>W</td>\n",
              "      <td>3</td>\n",
              "      <td>1</td>\n",
              "      <td>Wolves</td>\n",
              "      <td>1.9</td>\n",
              "      <td>0.6</td>\n",
              "      <td>65</td>\n",
              "      <td>Fernandinho</td>\n",
              "      <td>4-2-3-1</td>\n",
              "      <td>Andre Marriner</td>\n",
              "      <td>13</td>\n",
              "      <td>8</td>\n",
              "      <td>21.1</td>\n",
              "      <td>2</td>\n",
              "      <td>1</td>\n",
              "      <td>1</td>\n",
              "      <td>2021</td>\n",
              "      <td>Manchester City</td>\n",
              "      <td>20</td>\n",
              "      <td>0</td>\n",
              "      <td>3</td>\n",
              "      <td>Manchester City</td>\n",
              "    </tr>\n",
              "    <tr>\n",
              "      <th>1</th>\n",
              "      <td>2020-09-27</td>\n",
              "      <td>16:30 (17:30)</td>\n",
              "      <td>Sunday</td>\n",
              "      <td>Home</td>\n",
              "      <td>L</td>\n",
              "      <td>2</td>\n",
              "      <td>5</td>\n",
              "      <td>Leicester City</td>\n",
              "      <td>0.9</td>\n",
              "      <td>2.9</td>\n",
              "      <td>72</td>\n",
              "      <td>Fernandinho</td>\n",
              "      <td>4-2-3-1</td>\n",
              "      <td>Michael Oliver</td>\n",
              "      <td>16</td>\n",
              "      <td>5</td>\n",
              "      <td>19.8</td>\n",
              "      <td>1</td>\n",
              "      <td>0</td>\n",
              "      <td>0</td>\n",
              "      <td>2021</td>\n",
              "      <td>Manchester City</td>\n",
              "      <td>16</td>\n",
              "      <td>6</td>\n",
              "      <td>0</td>\n",
              "      <td>Manchester City</td>\n",
              "    </tr>\n",
              "    <tr>\n",
              "      <th>2</th>\n",
              "      <td>2020-10-03</td>\n",
              "      <td>17:30 (18:30)</td>\n",
              "      <td>Saturday</td>\n",
              "      <td>Away</td>\n",
              "      <td>D</td>\n",
              "      <td>1</td>\n",
              "      <td>1</td>\n",
              "      <td>Leeds United</td>\n",
              "      <td>1.2</td>\n",
              "      <td>2.4</td>\n",
              "      <td>49</td>\n",
              "      <td>Kevin De Bruyne</td>\n",
              "      <td>4-3-3</td>\n",
              "      <td>Mike Dean</td>\n",
              "      <td>23</td>\n",
              "      <td>1</td>\n",
              "      <td>18.2</td>\n",
              "      <td>1</td>\n",
              "      <td>0</td>\n",
              "      <td>0</td>\n",
              "      <td>2021</td>\n",
              "      <td>Manchester City</td>\n",
              "      <td>17</td>\n",
              "      <td>5</td>\n",
              "      <td>1</td>\n",
              "      <td>Manchester City</td>\n",
              "    </tr>\n",
              "    <tr>\n",
              "      <th>3</th>\n",
              "      <td>2020-10-17</td>\n",
              "      <td>17:30 (18:30)</td>\n",
              "      <td>Saturday</td>\n",
              "      <td>Home</td>\n",
              "      <td>W</td>\n",
              "      <td>1</td>\n",
              "      <td>0</td>\n",
              "      <td>Arsenal</td>\n",
              "      <td>1.3</td>\n",
              "      <td>0.9</td>\n",
              "      <td>58</td>\n",
              "      <td>Raheem Sterling</td>\n",
              "      <td>Altro</td>\n",
              "      <td>Chris Kavanagh</td>\n",
              "      <td>13</td>\n",
              "      <td>5</td>\n",
              "      <td>17.7</td>\n",
              "      <td>0</td>\n",
              "      <td>0</td>\n",
              "      <td>0</td>\n",
              "      <td>2021</td>\n",
              "      <td>Manchester City</td>\n",
              "      <td>17</td>\n",
              "      <td>5</td>\n",
              "      <td>3</td>\n",
              "      <td>Manchester City</td>\n",
              "    </tr>\n",
              "    <tr>\n",
              "      <th>4</th>\n",
              "      <td>2020-10-24</td>\n",
              "      <td>12:30 (13:30)</td>\n",
              "      <td>Saturday</td>\n",
              "      <td>Away</td>\n",
              "      <td>D</td>\n",
              "      <td>1</td>\n",
              "      <td>1</td>\n",
              "      <td>West Ham</td>\n",
              "      <td>1.0</td>\n",
              "      <td>0.3</td>\n",
              "      <td>69</td>\n",
              "      <td>Raheem Sterling</td>\n",
              "      <td>4-3-3</td>\n",
              "      <td>Anthony Taylor</td>\n",
              "      <td>14</td>\n",
              "      <td>7</td>\n",
              "      <td>20.9</td>\n",
              "      <td>1</td>\n",
              "      <td>0</td>\n",
              "      <td>0</td>\n",
              "      <td>2021</td>\n",
              "      <td>Manchester City</td>\n",
              "      <td>12</td>\n",
              "      <td>5</td>\n",
              "      <td>1</td>\n",
              "      <td>Manchester City</td>\n",
              "    </tr>\n",
              "  </tbody>\n",
              "</table>\n",
              "</div>\n",
              "    <div class=\"colab-df-buttons\">\n",
              "\n",
              "  <div class=\"colab-df-container\">\n",
              "    <button class=\"colab-df-convert\" onclick=\"convertToInteractive('df-2c1ac93c-4793-4ac7-b6a4-09b1badf75c3')\"\n",
              "            title=\"Convert this dataframe to an interactive table.\"\n",
              "            style=\"display:none;\">\n",
              "\n",
              "  <svg xmlns=\"http://www.w3.org/2000/svg\" height=\"24px\" viewBox=\"0 -960 960 960\">\n",
              "    <path d=\"M120-120v-720h720v720H120Zm60-500h600v-160H180v160Zm220 220h160v-160H400v160Zm0 220h160v-160H400v160ZM180-400h160v-160H180v160Zm440 0h160v-160H620v160ZM180-180h160v-160H180v160Zm440 0h160v-160H620v160Z\"/>\n",
              "  </svg>\n",
              "    </button>\n",
              "\n",
              "  <style>\n",
              "    .colab-df-container {\n",
              "      display:flex;\n",
              "      gap: 12px;\n",
              "    }\n",
              "\n",
              "    .colab-df-convert {\n",
              "      background-color: #E8F0FE;\n",
              "      border: none;\n",
              "      border-radius: 50%;\n",
              "      cursor: pointer;\n",
              "      display: none;\n",
              "      fill: #1967D2;\n",
              "      height: 32px;\n",
              "      padding: 0 0 0 0;\n",
              "      width: 32px;\n",
              "    }\n",
              "\n",
              "    .colab-df-convert:hover {\n",
              "      background-color: #E2EBFA;\n",
              "      box-shadow: 0px 1px 2px rgba(60, 64, 67, 0.3), 0px 1px 3px 1px rgba(60, 64, 67, 0.15);\n",
              "      fill: #174EA6;\n",
              "    }\n",
              "\n",
              "    .colab-df-buttons div {\n",
              "      margin-bottom: 4px;\n",
              "    }\n",
              "\n",
              "    [theme=dark] .colab-df-convert {\n",
              "      background-color: #3B4455;\n",
              "      fill: #D2E3FC;\n",
              "    }\n",
              "\n",
              "    [theme=dark] .colab-df-convert:hover {\n",
              "      background-color: #434B5C;\n",
              "      box-shadow: 0px 1px 3px 1px rgba(0, 0, 0, 0.15);\n",
              "      filter: drop-shadow(0px 1px 2px rgba(0, 0, 0, 0.3));\n",
              "      fill: #FFFFFF;\n",
              "    }\n",
              "  </style>\n",
              "\n",
              "    <script>\n",
              "      const buttonEl =\n",
              "        document.querySelector('#df-2c1ac93c-4793-4ac7-b6a4-09b1badf75c3 button.colab-df-convert');\n",
              "      buttonEl.style.display =\n",
              "        google.colab.kernel.accessAllowed ? 'block' : 'none';\n",
              "\n",
              "      async function convertToInteractive(key) {\n",
              "        const element = document.querySelector('#df-2c1ac93c-4793-4ac7-b6a4-09b1badf75c3');\n",
              "        const dataTable =\n",
              "          await google.colab.kernel.invokeFunction('convertToInteractive',\n",
              "                                                    [key], {});\n",
              "        if (!dataTable) return;\n",
              "\n",
              "        const docLinkHtml = 'Like what you see? Visit the ' +\n",
              "          '<a target=\"_blank\" href=https://colab.research.google.com/notebooks/data_table.ipynb>data table notebook</a>'\n",
              "          + ' to learn more about interactive tables.';\n",
              "        element.innerHTML = '';\n",
              "        dataTable['output_type'] = 'display_data';\n",
              "        await google.colab.output.renderOutput(dataTable, element);\n",
              "        const docLink = document.createElement('div');\n",
              "        docLink.innerHTML = docLinkHtml;\n",
              "        element.appendChild(docLink);\n",
              "      }\n",
              "    </script>\n",
              "  </div>\n",
              "\n",
              "\n",
              "<div id=\"df-1f49bbae-e97b-47c8-8d3f-b564cd1e3f2c\">\n",
              "  <button class=\"colab-df-quickchart\" onclick=\"quickchart('df-1f49bbae-e97b-47c8-8d3f-b564cd1e3f2c')\"\n",
              "            title=\"Suggest charts\"\n",
              "            style=\"display:none;\">\n",
              "\n",
              "<svg xmlns=\"http://www.w3.org/2000/svg\" height=\"24px\"viewBox=\"0 0 24 24\"\n",
              "     width=\"24px\">\n",
              "    <g>\n",
              "        <path d=\"M19 3H5c-1.1 0-2 .9-2 2v14c0 1.1.9 2 2 2h14c1.1 0 2-.9 2-2V5c0-1.1-.9-2-2-2zM9 17H7v-7h2v7zm4 0h-2V7h2v10zm4 0h-2v-4h2v4z\"/>\n",
              "    </g>\n",
              "</svg>\n",
              "  </button>\n",
              "\n",
              "<style>\n",
              "  .colab-df-quickchart {\n",
              "      --bg-color: #E8F0FE;\n",
              "      --fill-color: #1967D2;\n",
              "      --hover-bg-color: #E2EBFA;\n",
              "      --hover-fill-color: #174EA6;\n",
              "      --disabled-fill-color: #AAA;\n",
              "      --disabled-bg-color: #DDD;\n",
              "  }\n",
              "\n",
              "  [theme=dark] .colab-df-quickchart {\n",
              "      --bg-color: #3B4455;\n",
              "      --fill-color: #D2E3FC;\n",
              "      --hover-bg-color: #434B5C;\n",
              "      --hover-fill-color: #FFFFFF;\n",
              "      --disabled-bg-color: #3B4455;\n",
              "      --disabled-fill-color: #666;\n",
              "  }\n",
              "\n",
              "  .colab-df-quickchart {\n",
              "    background-color: var(--bg-color);\n",
              "    border: none;\n",
              "    border-radius: 50%;\n",
              "    cursor: pointer;\n",
              "    display: none;\n",
              "    fill: var(--fill-color);\n",
              "    height: 32px;\n",
              "    padding: 0;\n",
              "    width: 32px;\n",
              "  }\n",
              "\n",
              "  .colab-df-quickchart:hover {\n",
              "    background-color: var(--hover-bg-color);\n",
              "    box-shadow: 0 1px 2px rgba(60, 64, 67, 0.3), 0 1px 3px 1px rgba(60, 64, 67, 0.15);\n",
              "    fill: var(--button-hover-fill-color);\n",
              "  }\n",
              "\n",
              "  .colab-df-quickchart-complete:disabled,\n",
              "  .colab-df-quickchart-complete:disabled:hover {\n",
              "    background-color: var(--disabled-bg-color);\n",
              "    fill: var(--disabled-fill-color);\n",
              "    box-shadow: none;\n",
              "  }\n",
              "\n",
              "  .colab-df-spinner {\n",
              "    border: 2px solid var(--fill-color);\n",
              "    border-color: transparent;\n",
              "    border-bottom-color: var(--fill-color);\n",
              "    animation:\n",
              "      spin 1s steps(1) infinite;\n",
              "  }\n",
              "\n",
              "  @keyframes spin {\n",
              "    0% {\n",
              "      border-color: transparent;\n",
              "      border-bottom-color: var(--fill-color);\n",
              "      border-left-color: var(--fill-color);\n",
              "    }\n",
              "    20% {\n",
              "      border-color: transparent;\n",
              "      border-left-color: var(--fill-color);\n",
              "      border-top-color: var(--fill-color);\n",
              "    }\n",
              "    30% {\n",
              "      border-color: transparent;\n",
              "      border-left-color: var(--fill-color);\n",
              "      border-top-color: var(--fill-color);\n",
              "      border-right-color: var(--fill-color);\n",
              "    }\n",
              "    40% {\n",
              "      border-color: transparent;\n",
              "      border-right-color: var(--fill-color);\n",
              "      border-top-color: var(--fill-color);\n",
              "    }\n",
              "    60% {\n",
              "      border-color: transparent;\n",
              "      border-right-color: var(--fill-color);\n",
              "    }\n",
              "    80% {\n",
              "      border-color: transparent;\n",
              "      border-right-color: var(--fill-color);\n",
              "      border-bottom-color: var(--fill-color);\n",
              "    }\n",
              "    90% {\n",
              "      border-color: transparent;\n",
              "      border-bottom-color: var(--fill-color);\n",
              "    }\n",
              "  }\n",
              "</style>\n",
              "\n",
              "  <script>\n",
              "    async function quickchart(key) {\n",
              "      const quickchartButtonEl =\n",
              "        document.querySelector('#' + key + ' button');\n",
              "      quickchartButtonEl.disabled = true;  // To prevent multiple clicks.\n",
              "      quickchartButtonEl.classList.add('colab-df-spinner');\n",
              "      try {\n",
              "        const charts = await google.colab.kernel.invokeFunction(\n",
              "            'suggestCharts', [key], {});\n",
              "      } catch (error) {\n",
              "        console.error('Error during call to suggestCharts:', error);\n",
              "      }\n",
              "      quickchartButtonEl.classList.remove('colab-df-spinner');\n",
              "      quickchartButtonEl.classList.add('colab-df-quickchart-complete');\n",
              "    }\n",
              "    (() => {\n",
              "      let quickchartButtonEl =\n",
              "        document.querySelector('#df-1f49bbae-e97b-47c8-8d3f-b564cd1e3f2c button');\n",
              "      quickchartButtonEl.style.display =\n",
              "        google.colab.kernel.accessAllowed ? 'block' : 'none';\n",
              "    })();\n",
              "  </script>\n",
              "</div>\n",
              "\n",
              "    </div>\n",
              "  </div>\n"
            ],
            "application/vnd.google.colaboratory.intrinsic+json": {
              "type": "dataframe",
              "variable_name": "df"
            }
          },
          "metadata": {},
          "execution_count": 30
        }
      ]
    },
    {
      "cell_type": "code",
      "source": [
        "df['date'] = pd.to_datetime(df['date'])\n",
        "df_sorted = df.sort_values(['team', 'date'])\n",
        "df_sorted = df_sorted.reset_index(drop=True)"
      ],
      "metadata": {
        "id": "Iv1cZQjNowha"
      },
      "execution_count": 31,
      "outputs": []
    },
    {
      "cell_type": "code",
      "source": [
        "def verify_sorting(data):\n",
        "    # Check if dates are in ascending order for each team\n",
        "    is_sorted = data.groupby('team', observed=False)['date'].is_monotonic_increasing.all()\n",
        "\n",
        "    if is_sorted:\n",
        "        print(\"Data is correctly sorted by date for each team.\")\n",
        "    else:\n",
        "        print(\"WARNING: Data is not correctly sorted. Please check for inconsistencies.\")"
      ],
      "metadata": {
        "id": "tw0JM7zmo3Rv"
      },
      "execution_count": 32,
      "outputs": []
    },
    {
      "cell_type": "code",
      "source": [
        "verify_sorting(df_sorted)"
      ],
      "metadata": {
        "colab": {
          "base_uri": "https://localhost:8080/"
        },
        "id": "YQlq6yTso5S2",
        "outputId": "9d68d19b-ce4d-4f1f-aac2-a3a82b6efa02"
      },
      "execution_count": 33,
      "outputs": [
        {
          "output_type": "stream",
          "name": "stdout",
          "text": [
            "Data is correctly sorted by date for each team.\n"
          ]
        }
      ]
    },
    {
      "cell_type": "code",
      "source": [
        "num_cols = ['sh', 'sot', 'dist', 'fk', 'pk', 'pkatt', 'xga', 'xg', 'gf', 'ga']\n",
        "for col in num_cols:\n",
        "    df_sorted[col] = pd.to_numeric(df_sorted[col])"
      ],
      "metadata": {
        "id": "k7rem9rxo80e"
      },
      "execution_count": 34,
      "outputs": []
    },
    {
      "cell_type": "code",
      "source": [
        "def calculate_fk_pk_ratios(data):\n",
        "    data['fk_ratio'] = data['fk'] / data['sh']\n",
        "\n",
        "    data['pk_conversion_rate'] = data['pk'] / data['pkatt']\n",
        "\n",
        "    data['pk_per_shot'] = data['pkatt'] / data['sh']\n",
        "\n",
        "    data['fk_ratio'] = data['fk_ratio'].replace([np.inf, -np.inf], np.nan)\n",
        "    data['pk_conversion_rate'] = data['pk_conversion_rate'].replace([np.inf, -np.inf], np.nan)\n",
        "    data['pk_per_shot'] = data['pk_per_shot'].replace([np.inf, -np.inf], np.nan)\n",
        "\n",
        "    data['fk_percentage'] = data['fk_ratio'] * 100\n",
        "    data['pk_conversion_percentage'] = data['pk_conversion_rate'] * 100\n",
        "    data['pk_per_shot_percentage'] = data['pk_per_shot'] * 100\n",
        "\n",
        "    return data"
      ],
      "metadata": {
        "id": "WDASLnE7o_Tj"
      },
      "execution_count": 35,
      "outputs": []
    },
    {
      "cell_type": "code",
      "source": [
        "df_sorted = calculate_fk_pk_ratios(df_sorted)\n",
        "df_sorted.drop(['pk_conversion_rate', 'pk_conversion_percentage'], axis=1, inplace=True)\n",
        "fig, axs = plt.subplots(2, 2, figsize=(12, 6))\n",
        "i = 0\n",
        "for col in ['fk_ratio', 'pk_per_shot', 'fk_percentage', 'pk_per_shot_percentage']:\n",
        "    sns.histplot(df_sorted[col], kde=True, ax=axs.flatten()[i])\n",
        "    axs.flatten()[i].set_title('Distribution of ' + col)\n",
        "    i += 1"
      ],
      "metadata": {
        "colab": {
          "base_uri": "https://localhost:8080/",
          "height": 398
        },
        "id": "GLK5dVPtpCza",
        "outputId": "9bc763ee-aab5-4c05-e472-119bcc8850c7"
      },
      "execution_count": 39,
      "outputs": [
        {
          "output_type": "display_data",
          "data": {
            "text/plain": [
              "<Figure size 1200x600 with 4 Axes>"
            ],
            "image/png": "[encoded data removed]"
          },
          "metadata": {}
        }
      ]
    },
    {
      "cell_type": "code",
      "source": [
        "fig, axs = plt.subplots(2, 2, figsize=(12, 6))\n",
        "i = 0\n",
        "for col in ['fk_ratio', 'pk_per_shot', 'fk_percentage', 'pk_per_shot_percentage']:\n",
        "    sns.boxplot(x=df_sorted[col], ax=axs.flatten()[i])  # Changed to boxplot\n",
        "    axs.flatten()[i].set_title('Distribution of ' + col)\n",
        "    i += 1\n",
        "df_sorted[['fk_ratio', 'pk_per_shot', 'fk_percentage', 'pk_per_shot_percentage']].agg(['mean', 'min', 'max'])"
      ],
      "metadata": {
        "colab": {
          "base_uri": "https://localhost:8080/",
          "height": 548
        },
        "id": "GdtHxk1KpOaR",
        "outputId": "010b7352-2465-415e-a4a4-ea7db11dfe44"
      },
      "execution_count": 40,
      "outputs": [
        {
          "output_type": "execute_result",
          "data": {
            "text/plain": [
              "      fk_ratio  pk_per_shot  fk_percentage  pk_per_shot_percentage\n",
              "mean  0.036645     0.012528       3.664499                 1.25284\n",
              "min   0.000000     0.000000       0.000000                 0.00000\n",
              "max   1.000000     0.750000     100.000000                75.00000"
            ],
            "text/html": [
              "\n",
              "  <div id=\"df-873fc369-50c4-4839-a8dc-ffd8dd24ee26\" class=\"colab-df-container\">\n",
              "    <div>\n",
              "<style scoped>\n",
              "    .dataframe tbody tr th:only-of-type {\n",
              "        vertical-align: middle;\n",
              "    }\n",
              "\n",
              "    .dataframe tbody tr th {\n",
              "        vertical-align: top;\n",
              "    }\n",
              "\n",
              "    .dataframe thead th {\n",
              "        text-align: right;\n",
              "    }\n",
              "</style>\n",
              "<table border=\"1\" class=\"dataframe\">\n",
              "  <thead>\n",
              "    <tr style=\"text-align: right;\">\n",
              "      <th></th>\n",
              "      <th>fk_ratio</th>\n",
              "      <th>pk_per_shot</th>\n",
              "      <th>fk_percentage</th>\n",
              "      <th>pk_per_shot_percentage</th>\n",
              "    </tr>\n",
              "  </thead>\n",
              "  <tbody>\n",
              "    <tr>\n",
              "      <th>mean</th>\n",
              "      <td>0.036645</td>\n",
              "      <td>0.012528</td>\n",
              "      <td>3.664499</td>\n",
              "      <td>1.25284</td>\n",
              "    </tr>\n",
              "    <tr>\n",
              "      <th>min</th>\n",
              "      <td>0.000000</td>\n",
              "      <td>0.000000</td>\n",
              "      <td>0.000000</td>\n",
              "      <td>0.00000</td>\n",
              "    </tr>\n",
              "    <tr>\n",
              "      <th>max</th>\n",
              "      <td>1.000000</td>\n",
              "      <td>0.750000</td>\n",
              "      <td>100.000000</td>\n",
              "      <td>75.00000</td>\n",
              "    </tr>\n",
              "  </tbody>\n",
              "</table>\n",
              "</div>\n",
              "    <div class=\"colab-df-buttons\">\n",
              "\n",
              "  <div class=\"colab-df-container\">\n",
              "    <button class=\"colab-df-convert\" onclick=\"convertToInteractive('df-873fc369-50c4-4839-a8dc-ffd8dd24ee26')\"\n",
              "            title=\"Convert this dataframe to an interactive table.\"\n",
              "            style=\"display:none;\">\n",
              "\n",
              "  <svg xmlns=\"http://www.w3.org/2000/svg\" height=\"24px\" viewBox=\"0 -960 960 960\">\n",
              "    <path d=\"M120-120v-720h720v720H120Zm60-500h600v-160H180v160Zm220 220h160v-160H400v160Zm0 220h160v-160H400v160ZM180-400h160v-160H180v160Zm440 0h160v-160H620v160ZM180-180h160v-160H180v160Zm440 0h160v-160H620v160Z\"/>\n",
              "  </svg>\n",
              "    </button>\n",
              "\n",
              "  <style>\n",
              "    .colab-df-container {\n",
              "      display:flex;\n",
              "      gap: 12px;\n",
              "    }\n",
              "\n",
              "    .colab-df-convert {\n",
              "      background-color: #E8F0FE;\n",
              "      border: none;\n",
              "      border-radius: 50%;\n",
              "      cursor: pointer;\n",
              "      display: none;\n",
              "      fill: #1967D2;\n",
              "      height: 32px;\n",
              "      padding: 0 0 0 0;\n",
              "      width: 32px;\n",
              "    }\n",
              "\n",
              "    .colab-df-convert:hover {\n",
              "      background-color: #E2EBFA;\n",
              "      box-shadow: 0px 1px 2px rgba(60, 64, 67, 0.3), 0px 1px 3px 1px rgba(60, 64, 67, 0.15);\n",
              "      fill: #174EA6;\n",
              "    }\n",
              "\n",
              "    .colab-df-buttons div {\n",
              "      margin-bottom: 4px;\n",
              "    }\n",
              "\n",
              "    [theme=dark] .colab-df-convert {\n",
              "      background-color: #3B4455;\n",
              "      fill: #D2E3FC;\n",
              "    }\n",
              "\n",
              "    [theme=dark] .colab-df-convert:hover {\n",
              "      background-color: #434B5C;\n",
              "      box-shadow: 0px 1px 3px 1px rgba(0, 0, 0, 0.15);\n",
              "      filter: drop-shadow(0px 1px 2px rgba(0, 0, 0, 0.3));\n",
              "      fill: #FFFFFF;\n",
              "    }\n",
              "  </style>\n",
              "\n",
              "    <script>\n",
              "      const buttonEl =\n",
              "        document.querySelector('#df-873fc369-50c4-4839-a8dc-ffd8dd24ee26 button.colab-df-convert');\n",
              "      buttonEl.style.display =\n",
              "        google.colab.kernel.accessAllowed ? 'block' : 'none';\n",
              "\n",
              "      async function convertToInteractive(key) {\n",
              "        const element = document.querySelector('#df-873fc369-50c4-4839-a8dc-ffd8dd24ee26');\n",
              "        const dataTable =\n",
              "          await google.colab.kernel.invokeFunction('convertToInteractive',\n",
              "                                                    [key], {});\n",
              "        if (!dataTable) return;\n",
              "\n",
              "        const docLinkHtml = 'Like what you see? Visit the ' +\n",
              "          '<a target=\"_blank\" href=https://colab.research.google.com/notebooks/data_table.ipynb>data table notebook</a>'\n",
              "          + ' to learn more about interactive tables.';\n",
              "        element.innerHTML = '';\n",
              "        dataTable['output_type'] = 'display_data';\n",
              "        await google.colab.output.renderOutput(dataTable, element);\n",
              "        const docLink = document.createElement('div');\n",
              "        docLink.innerHTML = docLinkHtml;\n",
              "        element.appendChild(docLink);\n",
              "      }\n",
              "    </script>\n",
              "  </div>\n",
              "\n",
              "\n",
              "<div id=\"df-4ba9a455-6e4a-47ca-b32a-5ffc8342e6f3\">\n",
              "  <button class=\"colab-df-quickchart\" onclick=\"quickchart('df-4ba9a455-6e4a-47ca-b32a-5ffc8342e6f3')\"\n",
              "            title=\"Suggest charts\"\n",
              "            style=\"display:none;\">\n",
              "\n",
              "<svg xmlns=\"http://www.w3.org/2000/svg\" height=\"24px\"viewBox=\"0 0 24 24\"\n",
              "     width=\"24px\">\n",
              "    <g>\n",
              "        <path d=\"M19 3H5c-1.1 0-2 .9-2 2v14c0 1.1.9 2 2 2h14c1.1 0 2-.9 2-2V5c0-1.1-.9-2-2-2zM9 17H7v-7h2v7zm4 0h-2V7h2v10zm4 0h-2v-4h2v4z\"/>\n",
              "    </g>\n",
              "</svg>\n",
              "  </button>\n",
              "\n",
              "<style>\n",
              "  .colab-df-quickchart {\n",
              "      --bg-color: #E8F0FE;\n",
              "      --fill-color: #1967D2;\n",
              "      --hover-bg-color: #E2EBFA;\n",
              "      --hover-fill-color: #174EA6;\n",
              "      --disabled-fill-color: #AAA;\n",
              "      --disabled-bg-color: #DDD;\n",
              "  }\n",
              "\n",
              "  [theme=dark] .colab-df-quickchart {\n",
              "      --bg-color: #3B4455;\n",
              "      --fill-color: #D2E3FC;\n",
              "      --hover-bg-color: #434B5C;\n",
              "      --hover-fill-color: #FFFFFF;\n",
              "      --disabled-bg-color: #3B4455;\n",
              "      --disabled-fill-color: #666;\n",
              "  }\n",
              "\n",
              "  .colab-df-quickchart {\n",
              "    background-color: var(--bg-color);\n",
              "    border: none;\n",
              "    border-radius: 50%;\n",
              "    cursor: pointer;\n",
              "    display: none;\n",
              "    fill: var(--fill-color);\n",
              "    height: 32px;\n",
              "    padding: 0;\n",
              "    width: 32px;\n",
              "  }\n",
              "\n",
              "  .colab-df-quickchart:hover {\n",
              "    background-color: var(--hover-bg-color);\n",
              "    box-shadow: 0 1px 2px rgba(60, 64, 67, 0.3), 0 1px 3px 1px rgba(60, 64, 67, 0.15);\n",
              "    fill: var(--button-hover-fill-color);\n",
              "  }\n",
              "\n",
              "  .colab-df-quickchart-complete:disabled,\n",
              "  .colab-df-quickchart-complete:disabled:hover {\n",
              "    background-color: var(--disabled-bg-color);\n",
              "    fill: var(--disabled-fill-color);\n",
              "    box-shadow: none;\n",
              "  }\n",
              "\n",
              "  .colab-df-spinner {\n",
              "    border: 2px solid var(--fill-color);\n",
              "    border-color: transparent;\n",
              "    border-bottom-color: var(--fill-color);\n",
              "    animation:\n",
              "      spin 1s steps(1) infinite;\n",
              "  }\n",
              "\n",
              "  @keyframes spin {\n",
              "    0% {\n",
              "      border-color: transparent;\n",
              "      border-bottom-color: var(--fill-color);\n",
              "      border-left-color: var(--fill-color);\n",
              "    }\n",
              "    20% {\n",
              "      border-color: transparent;\n",
              "      border-left-color: var(--fill-color);\n",
              "      border-top-color: var(--fill-color);\n",
              "    }\n",
              "    30% {\n",
              "      border-color: transparent;\n",
              "      border-left-color: var(--fill-color);\n",
              "      border-top-color: var(--fill-color);\n",
              "      border-right-color: var(--fill-color);\n",
              "    }\n",
              "    40% {\n",
              "      border-color: transparent;\n",
              "      border-right-color: var(--fill-color);\n",
              "      border-top-color: var(--fill-color);\n",
              "    }\n",
              "    60% {\n",
              "      border-color: transparent;\n",
              "      border-right-color: var(--fill-color);\n",
              "    }\n",
              "    80% {\n",
              "      border-color: transparent;\n",
              "      border-right-color: var(--fill-color);\n",
              "      border-bottom-color: var(--fill-color);\n",
              "    }\n",
              "    90% {\n",
              "      border-color: transparent;\n",
              "      border-bottom-color: var(--fill-color);\n",
              "    }\n",
              "  }\n",
              "</style>\n",
              "\n",
              "  <script>\n",
              "    async function quickchart(key) {\n",
              "      const quickchartButtonEl =\n",
              "        document.querySelector('#' + key + ' button');\n",
              "      quickchartButtonEl.disabled = true;  // To prevent multiple clicks.\n",
              "      quickchartButtonEl.classList.add('colab-df-spinner');\n",
              "      try {\n",
              "        const charts = await google.colab.kernel.invokeFunction(\n",
              "            'suggestCharts', [key], {});\n",
              "      } catch (error) {\n",
              "        console.error('Error during call to suggestCharts:', error);\n",
              "      }\n",
              "      quickchartButtonEl.classList.remove('colab-df-spinner');\n",
              "      quickchartButtonEl.classList.add('colab-df-quickchart-complete');\n",
              "    }\n",
              "    (() => {\n",
              "      let quickchartButtonEl =\n",
              "        document.querySelector('#df-4ba9a455-6e4a-47ca-b32a-5ffc8342e6f3 button');\n",
              "      quickchartButtonEl.style.display =\n",
              "        google.colab.kernel.accessAllowed ? 'block' : 'none';\n",
              "    })();\n",
              "  </script>\n",
              "</div>\n",
              "\n",
              "    </div>\n",
              "  </div>\n"
            ],
            "application/vnd.google.colaboratory.intrinsic+json": {
              "type": "dataframe",
              "summary": "{\n  \"name\": \"df_sorted[['fk_ratio', 'pk_per_shot', 'fk_percentage', 'pk_per_shot_percentage']]\",\n  \"rows\": 3,\n  \"fields\": [\n    {\n      \"column\": \"fk_ratio\",\n      \"properties\": {\n        \"dtype\": \"number\",\n        \"std\": 0.5670678580151324,\n        \"min\": 0.0,\n        \"max\": 1.0,\n        \"num_unique_values\": 3,\n        \"samples\": [\n          0.0366449883926893,\n          0.0,\n          1.0\n        ],\n        \"semantic_type\": \"\",\n        \"description\": \"\"\n      }\n    },\n    {\n      \"column\": \"pk_per_shot\",\n      \"properties\": {\n        \"dtype\": \"number\",\n        \"std\": 0.42944175290466835,\n        \"min\": 0.0,\n        \"max\": 0.75,\n        \"num_unique_values\": 3,\n        \"samples\": [\n          0.012528404680445875,\n          0.0,\n          0.75\n        ],\n        \"semantic_type\": \"\",\n        \"description\": \"\"\n      }\n    },\n    {\n      \"column\": \"fk_percentage\",\n      \"properties\": {\n        \"dtype\": \"number\",\n        \"std\": 56.706785801513234,\n        \"min\": 0.0,\n        \"max\": 100.0,\n        \"num_unique_values\": 3,\n        \"samples\": [\n          3.6644988392689304,\n          0.0,\n          100.0\n        ],\n        \"semantic_type\": \"\",\n        \"description\": \"\"\n      }\n    },\n    {\n      \"column\": \"pk_per_shot_percentage\",\n      \"properties\": {\n        \"dtype\": \"number\",\n        \"std\": 42.94417529046683,\n        \"min\": 0.0,\n        \"max\": 75.0,\n        \"num_unique_values\": 3,\n        \"samples\": [\n          1.2528404680445877,\n          0.0,\n          75.0\n        ],\n        \"semantic_type\": \"\",\n        \"description\": \"\"\n      }\n    }\n  ]\n}"
            }
          },
          "metadata": {},
          "execution_count": 40
        },
        {
          "output_type": "display_data",
          "data": {
            "text/plain": [
              "<Figure size 1200x600 with 4 Axes>"
            ],
            "image/png": "[encoded data removed]"
          },
          "metadata": {}
        }
      ]
    },
    {
      "cell_type": "code",
      "source": [
        "def calculate_rolling_average(data, column, window=5):\n",
        "    \"\"\"\n",
        "    Calculate the rolling average of a column for each team.\n",
        "\n",
        "    Parameters:\n",
        "    data (DataFrame): The input DataFrame\n",
        "    column (str): The column to calculate the rolling average for\n",
        "    window (int): The number of games to include in the rolling average\n",
        "\n",
        "    Returns:\n",
        "    Series: The rolling average\n",
        "    \"\"\"\n",
        "    return data.groupby('team', observed=False)[column].transform(\n",
        "        lambda x: x.rolling(window=window, min_periods=1).mean()\n",
        "    )"
      ],
      "metadata": {
        "id": "p2J8icEYpdH_"
      },
      "execution_count": 41,
      "outputs": []
    },
    {
      "cell_type": "code",
      "source": [
        "df_sorted['rolling_xg'] = calculate_rolling_average(df_sorted, 'xg')\n",
        "df_sorted['rolling_xga'] = calculate_rolling_average(df_sorted, 'xga')\n",
        "df_sorted['rolling_poss'] = calculate_rolling_average(df_sorted, 'poss')\n",
        "df_sorted['rolling_sh'] = calculate_rolling_average(df_sorted, 'sh')\n",
        "df_sorted['rolling_sot'] = calculate_rolling_average(df_sorted, 'sot')\n",
        "df_sorted['rolling_dist'] = calculate_rolling_average(df_sorted, 'dist')"
      ],
      "metadata": {
        "id": "nL_M24xOph5e"
      },
      "execution_count": 42,
      "outputs": []
    },
    {
      "cell_type": "code",
      "source": [
        "df_sorted['result_encoded'] = pd.to_numeric(df_sorted['result'].map({'W': 1, 'D': 0, 'L': -1}))\n",
        "df_sorted['form'] = calculate_rolling_average(df_sorted, 'result_encoded')"
      ],
      "metadata": {
        "id": "c3qEPewMpmEL"
      },
      "execution_count": 43,
      "outputs": []
    },
    {
      "cell_type": "code",
      "source": [
        "df_sorted['goal_diff'] = df_sorted['gf'] - df_sorted['ga']\n",
        "df_sorted['rolling_goal_diff'] = calculate_rolling_average(df_sorted, 'goal_diff')"
      ],
      "metadata": {
        "id": "ttNUnecXposS"
      },
      "execution_count": 44,
      "outputs": []
    },
    {
      "cell_type": "code",
      "source": [
        "def get_head_to_head(data):\n",
        "    \"\"\"\n",
        "    Calculate the head-to-head record against each opponent.\n",
        "\n",
        "    Returns:\n",
        "    DataFrame: The original dataframe with an additional column for head-to-head record\n",
        "    \"\"\"\n",
        "    # Calculate the mean result for each team-opponent pair\n",
        "    h2h = data.groupby(['team', 'opponent'], observed=False)['result_encoded'].mean().reset_index()\n",
        "\n",
        "    # Rename the mean column\n",
        "    h2h = h2h.rename(columns={'result_encoded': 'h2h_record'})\n",
        "\n",
        "    # Merge the h2h data back to the original dataframe\n",
        "    result = pd.merge(data, h2h, on=['team', 'opponent'], how='left')\n",
        "\n",
        "    return result"
      ],
      "metadata": {
        "id": "v2iTQuqHpqy3"
      },
      "execution_count": 45,
      "outputs": []
    },
    {
      "cell_type": "code",
      "source": [
        "df_sorted = get_head_to_head(df_sorted)\n",
        "df_sorted['day_of_week'] = pd.to_datetime(df_sorted['date']).dt.dayofweek"
      ],
      "metadata": {
        "id": "NI3SIdE6psuv"
      },
      "execution_count": 47,
      "outputs": []
    },
    {
      "cell_type": "code",
      "source": [
        "def categorize_time(time):\n",
        "    hour = pd.to_datetime(time).hour\n",
        "    if hour < 12:\n",
        "        return 'early'\n",
        "    elif hour < 17:\n",
        "        return 'afternoon'\n",
        "    else:\n",
        "        return 'evening'"
      ],
      "metadata": {
        "id": "xKNujGfApz38"
      },
      "execution_count": 48,
      "outputs": []
    },
    {
      "cell_type": "code",
      "source": [
        "df_sorted['time'] = df_sorted['time'].apply(lambda x: x.split(' ')[0])\n",
        "df_sorted['time_condition'] = df_sorted['time'].apply(categorize_time)\n",
        "\n",
        "df_sorted['time_condition'].value_counts()"
      ],
      "metadata": {
        "colab": {
          "base_uri": "https://localhost:8080/",
          "height": 178
        },
        "id": "GMCBx7bnp2Dc",
        "outputId": "bd64246a-2a1c-419b-f1bb-61c813005b66"
      },
      "execution_count": 49,
      "outputs": [
        {
          "output_type": "execute_result",
          "data": {
            "text/plain": [
              "time_condition\n",
              "afternoon    2338\n",
              "evening      1462\n",
              "Name: count, dtype: int64"
            ],
            "text/html": [
              "<div>\n",
              "<style scoped>\n",
              "    .dataframe tbody tr th:only-of-type {\n",
              "        vertical-align: middle;\n",
              "    }\n",
              "\n",
              "    .dataframe tbody tr th {\n",
              "        vertical-align: top;\n",
              "    }\n",
              "\n",
              "    .dataframe thead th {\n",
              "        text-align: right;\n",
              "    }\n",
              "</style>\n",
              "<table border=\"1\" class=\"dataframe\">\n",
              "  <thead>\n",
              "    <tr style=\"text-align: right;\">\n",
              "      <th></th>\n",
              "      <th>count</th>\n",
              "    </tr>\n",
              "    <tr>\n",
              "      <th>time_condition</th>\n",
              "      <th></th>\n",
              "    </tr>\n",
              "  </thead>\n",
              "  <tbody>\n",
              "    <tr>\n",
              "      <th>afternoon</th>\n",
              "      <td>2338</td>\n",
              "    </tr>\n",
              "    <tr>\n",
              "      <th>evening</th>\n",
              "      <td>1462</td>\n",
              "    </tr>\n",
              "  </tbody>\n",
              "</table>\n",
              "</div><br><label><b>dtype:</b> int64</label>"
            ]
          },
          "metadata": {},
          "execution_count": 49
        }
      ]
    },
    {
      "cell_type": "code",
      "source": [
        "df_sorted.groupby('team', observed=False)['date'].count().sort_values(ascending=False)\n",
        "df_sorted['days_since_last_match'] = df_sorted.groupby('team', observed=False)['date'].diff().dt.days\n",
        "df_sorted['days_since_last_match'] = df_sorted['days_since_last_match'].fillna(0)"
      ],
      "metadata": {
        "id": "IegqrZkAp4KU"
      },
      "execution_count": 50,
      "outputs": []
    },
    {
      "cell_type": "code",
      "source": [
        "df_sorted.to_csv('matches_final.csv', index=False)"
      ],
      "metadata": {
        "id": "eEqIDLZ7p7t3"
      },
      "execution_count": 51,
      "outputs": []
    },
    {
      "cell_type": "code",
      "source": [
        "columns_to_drop = ['gf', 'ga', 'xg', 'xga', 'poss', 'sh', 'sot',\n",
        "                   'goal_diff', 'day', 'pk', 'pkatt', 'fk',\n",
        "                   'referee', 'dist','points', 'season_winner', 'hour', 'result_encoded', 'day_code']\n",
        "df_sorted = df_sorted.drop(columns=columns_to_drop)\n",
        "num_cols = df_sorted.select_dtypes(include=np.number).columns\n",
        "num_cols = num_cols.drop(['season'])\n",
        "num_cols = num_cols.tolist()\n",
        "cat_cols = df_sorted.select_dtypes(exclude=np.number).columns\n",
        "cat_cols = cat_cols.drop(['result', 'date'])\n",
        "cat_cols = cat_cols.tolist()\n",
        "predictors = num_cols + cat_cols"
      ],
      "metadata": {
        "id": "VwiYnjyeqCvj"
      },
      "execution_count": 52,
      "outputs": []
    },
    {
      "cell_type": "code",
      "source": [
        "train = df_sorted[df_sorted[\"season\"] <= 2023]\n",
        "test = df_sorted[df_sorted[\"season\"] > 2023]\n",
        "\n",
        "df_sorted[\"season\"].value_counts()"
      ],
      "metadata": {
        "colab": {
          "base_uri": "https://localhost:8080/",
          "height": 272
        },
        "id": "ZfUqNscbqGgP",
        "outputId": "5d49148d-4e66-484f-d280-8f2bded9bbd9"
      },
      "execution_count": 53,
      "outputs": [
        {
          "output_type": "execute_result",
          "data": {
            "text/plain": [
              "season\n",
              "2020    760\n",
              "2021    760\n",
              "2022    760\n",
              "2023    760\n",
              "2024    760\n",
              "Name: count, dtype: int64"
            ],
            "text/html": [
              "<div>\n",
              "<style scoped>\n",
              "    .dataframe tbody tr th:only-of-type {\n",
              "        vertical-align: middle;\n",
              "    }\n",
              "\n",
              "    .dataframe tbody tr th {\n",
              "        vertical-align: top;\n",
              "    }\n",
              "\n",
              "    .dataframe thead th {\n",
              "        text-align: right;\n",
              "    }\n",
              "</style>\n",
              "<table border=\"1\" class=\"dataframe\">\n",
              "  <thead>\n",
              "    <tr style=\"text-align: right;\">\n",
              "      <th></th>\n",
              "      <th>count</th>\n",
              "    </tr>\n",
              "    <tr>\n",
              "      <th>season</th>\n",
              "      <th></th>\n",
              "    </tr>\n",
              "  </thead>\n",
              "  <tbody>\n",
              "    <tr>\n",
              "      <th>2020</th>\n",
              "      <td>760</td>\n",
              "    </tr>\n",
              "    <tr>\n",
              "      <th>2021</th>\n",
              "      <td>760</td>\n",
              "    </tr>\n",
              "    <tr>\n",
              "      <th>2022</th>\n",
              "      <td>760</td>\n",
              "    </tr>\n",
              "    <tr>\n",
              "      <th>2023</th>\n",
              "      <td>760</td>\n",
              "    </tr>\n",
              "    <tr>\n",
              "      <th>2024</th>\n",
              "      <td>760</td>\n",
              "    </tr>\n",
              "  </tbody>\n",
              "</table>\n",
              "</div><br><label><b>dtype:</b> int64</label>"
            ]
          },
          "metadata": {},
          "execution_count": 53
        }
      ]
    },
    {
      "cell_type": "code",
      "source": [
        "train.to_csv(\"training_set.csv\", index=False)\n",
        "test.to_csv(\"test_set.csv\", index=False)"
      ],
      "metadata": {
        "id": "2CKkbNXFqLQ_"
      },
      "execution_count": 54,
      "outputs": []
    }
  ]
}